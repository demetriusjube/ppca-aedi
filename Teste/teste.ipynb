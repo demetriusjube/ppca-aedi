{
 "cells": [
  {
   "cell_type": "code",
   "execution_count": 1,
   "metadata": {},
   "outputs": [
    {
     "name": "stdout",
     "output_type": "stream",
     "text": [
      "Combinação de 3 tomados 1 a 1:  3\n"
     ]
    }
   ],
   "source": [
    "import math as m;\n",
    "\n",
    "print(\"Combinação de 3 tomados 1 a 1: \",m.comb(3,1))\n"
   ]
  },
  {
   "cell_type": "code",
   "execution_count": 2,
   "metadata": {},
   "outputs": [
    {
     "name": "stdout",
     "output_type": "stream",
     "text": [
      "0.001\n"
     ]
    }
   ],
   "source": [
    "from scipy import constants\n",
    "\n",
    "print(constants.liter)"
   ]
  },
  {
   "cell_type": "code",
   "execution_count": 3,
   "metadata": {},
   "outputs": [],
   "source": [
    "from scipy.stats import randint  \n",
    "    \n",
    "numargs = randint.numargs  \n",
    "a, b = 0.2, 0.8\n",
    "rv = randint (a, b)  \n",
    "    "
   ]
  },
  {
   "cell_type": "code",
   "execution_count": 4,
   "metadata": {},
   "outputs": [
    {
     "name": "stdout",
     "output_type": "stream",
     "text": [
      "RV : \n",
      " <scipy.stats._distn_infrastructure.rv_frozen object at 0x00000191154147C0>\n"
     ]
    },
    {
     "ename": "ValueError",
     "evalue": "high <= 0",
     "output_type": "error",
     "traceback": [
      "\u001b[1;31m---------------------------------------------------------------------------\u001b[0m",
      "\u001b[1;31mValueError\u001b[0m                                Traceback (most recent call last)",
      "\u001b[1;32mc:\\Users\\demet\\OneDrive\\Documentos\\Mestrado UnB\\Analise Estatistica\\exercicios\\Teste\\teste.ipynb Cell 4'\u001b[0m in \u001b[0;36m<cell line: 5>\u001b[1;34m()\u001b[0m\n\u001b[0;32m      <a href='vscode-notebook-cell:/c%3A/Users/demet/OneDrive/Documentos/Mestrado%20UnB/Analise%20Estatistica/exercicios/Teste/teste.ipynb#ch0000003?line=2'>3</a>\u001b[0m \u001b[39mprint\u001b[39m (\u001b[39m\"\u001b[39m\u001b[39mRV : \u001b[39m\u001b[39m\\n\u001b[39;00m\u001b[39m\"\u001b[39m, rv)   \n\u001b[0;32m      <a href='vscode-notebook-cell:/c%3A/Users/demet/OneDrive/Documentos/Mestrado%20UnB/Analise%20Estatistica/exercicios/Teste/teste.ipynb#ch0000003?line=3'>4</a>\u001b[0m quantile \u001b[39m=\u001b[39m np\u001b[39m.\u001b[39marange (\u001b[39m0.01\u001b[39m, \u001b[39m1\u001b[39m, \u001b[39m0.1\u001b[39m)  \n\u001b[1;32m----> <a href='vscode-notebook-cell:/c%3A/Users/demet/OneDrive/Documentos/Mestrado%20UnB/Analise%20Estatistica/exercicios/Teste/teste.ipynb#ch0000003?line=4'>5</a>\u001b[0m R \u001b[39m=\u001b[39m randint\u001b[39m.\u001b[39;49mrvs(a, b, size \u001b[39m=\u001b[39;49m \u001b[39m10\u001b[39;49m)  \n\u001b[0;32m      <a href='vscode-notebook-cell:/c%3A/Users/demet/OneDrive/Documentos/Mestrado%20UnB/Analise%20Estatistica/exercicios/Teste/teste.ipynb#ch0000003?line=5'>6</a>\u001b[0m \u001b[39mprint\u001b[39m (\u001b[39m\"\u001b[39m\u001b[39mRandom Variates : \u001b[39m\u001b[39m\\n\u001b[39;00m\u001b[39m\"\u001b[39m, R)  \n\u001b[0;32m      <a href='vscode-notebook-cell:/c%3A/Users/demet/OneDrive/Documentos/Mestrado%20UnB/Analise%20Estatistica/exercicios/Teste/teste.ipynb#ch0000003?line=6'>7</a>\u001b[0m x \u001b[39m=\u001b[39m np\u001b[39m.\u001b[39mlinspace(randint\u001b[39m.\u001b[39mppf(\u001b[39m0.01\u001b[39m, a, b), \n\u001b[0;32m      <a href='vscode-notebook-cell:/c%3A/Users/demet/OneDrive/Documentos/Mestrado%20UnB/Analise%20Estatistica/exercicios/Teste/teste.ipynb#ch0000003?line=7'>8</a>\u001b[0m                 randint\u001b[39m.\u001b[39mppf(\u001b[39m0.99\u001b[39m, a, b), \u001b[39m10\u001b[39m) \n",
      "File \u001b[1;32m~\\AppData\\Roaming\\Python\\Python310\\site-packages\\scipy\\stats\\_distn_infrastructure.py:3151\u001b[0m, in \u001b[0;36mrv_discrete.rvs\u001b[1;34m(self, *args, **kwargs)\u001b[0m\n\u001b[0;32m   3122\u001b[0m \u001b[39m\"\"\"Random variates of given type.\u001b[39;00m\n\u001b[0;32m   3123\u001b[0m \n\u001b[0;32m   3124\u001b[0m \u001b[39mParameters\u001b[39;00m\n\u001b[1;32m   (...)\u001b[0m\n\u001b[0;32m   3148\u001b[0m \n\u001b[0;32m   3149\u001b[0m \u001b[39m\"\"\"\u001b[39;00m\n\u001b[0;32m   3150\u001b[0m kwargs[\u001b[39m'\u001b[39m\u001b[39mdiscrete\u001b[39m\u001b[39m'\u001b[39m] \u001b[39m=\u001b[39m \u001b[39mTrue\u001b[39;00m\n\u001b[1;32m-> 3151\u001b[0m \u001b[39mreturn\u001b[39;00m \u001b[39msuper\u001b[39m()\u001b[39m.\u001b[39mrvs(\u001b[39m*\u001b[39margs, \u001b[39m*\u001b[39m\u001b[39m*\u001b[39mkwargs)\n",
      "File \u001b[1;32m~\\AppData\\Roaming\\Python\\Python310\\site-packages\\scipy\\stats\\_distn_infrastructure.py:1093\u001b[0m, in \u001b[0;36mrv_generic.rvs\u001b[1;34m(self, *args, **kwds)\u001b[0m\n\u001b[0;32m   1091\u001b[0m     vals \u001b[39m=\u001b[39m \u001b[39mself\u001b[39m\u001b[39m.\u001b[39m_rvs(\u001b[39m*\u001b[39margs)\n\u001b[0;32m   1092\u001b[0m \u001b[39melse\u001b[39;00m:\n\u001b[1;32m-> 1093\u001b[0m     vals \u001b[39m=\u001b[39m \u001b[39mself\u001b[39;49m\u001b[39m.\u001b[39;49m_rvs(\u001b[39m*\u001b[39;49margs, size\u001b[39m=\u001b[39;49msize, random_state\u001b[39m=\u001b[39;49mrandom_state)\n\u001b[0;32m   1095\u001b[0m vals \u001b[39m=\u001b[39m vals \u001b[39m*\u001b[39m scale \u001b[39m+\u001b[39m loc\n\u001b[0;32m   1097\u001b[0m \u001b[39m# do not forget to restore the _random_state\u001b[39;00m\n",
      "File \u001b[1;32m~\\AppData\\Roaming\\Python\\Python310\\site-packages\\scipy\\stats\\_discrete_distns.py:1042\u001b[0m, in \u001b[0;36mrandint_gen._rvs\u001b[1;34m(self, low, high, size, random_state)\u001b[0m\n\u001b[0;32m   1039\u001b[0m \u001b[39m\"\"\"An array of *size* random integers >= ``low`` and < ``high``.\"\"\"\u001b[39;00m\n\u001b[0;32m   1040\u001b[0m \u001b[39mif\u001b[39;00m np\u001b[39m.\u001b[39masarray(low)\u001b[39m.\u001b[39msize \u001b[39m==\u001b[39m \u001b[39m1\u001b[39m \u001b[39mand\u001b[39;00m np\u001b[39m.\u001b[39masarray(high)\u001b[39m.\u001b[39msize \u001b[39m==\u001b[39m \u001b[39m1\u001b[39m:\n\u001b[0;32m   1041\u001b[0m     \u001b[39m# no need to vectorize in that case\u001b[39;00m\n\u001b[1;32m-> 1042\u001b[0m     \u001b[39mreturn\u001b[39;00m rng_integers(random_state, low, high, size\u001b[39m=\u001b[39;49msize)\n\u001b[0;32m   1044\u001b[0m \u001b[39mif\u001b[39;00m size \u001b[39mis\u001b[39;00m \u001b[39mnot\u001b[39;00m \u001b[39mNone\u001b[39;00m:\n\u001b[0;32m   1045\u001b[0m     \u001b[39m# NumPy's RandomState.randint() doesn't broadcast its arguments.\u001b[39;00m\n\u001b[0;32m   1046\u001b[0m     \u001b[39m# Use `broadcast_to()` to extend the shapes of low and high\u001b[39;00m\n\u001b[0;32m   1047\u001b[0m     \u001b[39m# up to size.  Then we can use the numpy.vectorize'd\u001b[39;00m\n\u001b[0;32m   1048\u001b[0m     \u001b[39m# randint without needing to pass it a `size` argument.\u001b[39;00m\n\u001b[0;32m   1049\u001b[0m     low \u001b[39m=\u001b[39m np\u001b[39m.\u001b[39mbroadcast_to(low, size)\n",
      "File \u001b[1;32m~\\AppData\\Roaming\\Python\\Python310\\site-packages\\scipy\\_lib\\_util.py:545\u001b[0m, in \u001b[0;36mrng_integers\u001b[1;34m(gen, low, high, size, dtype, endpoint)\u001b[0m\n\u001b[0;32m    542\u001b[0m         \u001b[39mreturn\u001b[39;00m gen\u001b[39m.\u001b[39mrandint(low, high\u001b[39m=\u001b[39mhigh \u001b[39m+\u001b[39m \u001b[39m1\u001b[39m, size\u001b[39m=\u001b[39msize, dtype\u001b[39m=\u001b[39mdtype)\n\u001b[0;32m    544\u001b[0m \u001b[39m# exclusive\u001b[39;00m\n\u001b[1;32m--> 545\u001b[0m \u001b[39mreturn\u001b[39;00m gen\u001b[39m.\u001b[39;49mrandint(low, high\u001b[39m=\u001b[39;49mhigh, size\u001b[39m=\u001b[39;49msize, dtype\u001b[39m=\u001b[39;49mdtype)\n",
      "File \u001b[1;32mmtrand.pyx:748\u001b[0m, in \u001b[0;36mnumpy.random.mtrand.RandomState.randint\u001b[1;34m()\u001b[0m\n",
      "File \u001b[1;32m_bounded_integers.pyx:1247\u001b[0m, in \u001b[0;36mnumpy.random._bounded_integers._rand_int64\u001b[1;34m()\u001b[0m\n",
      "\u001b[1;31mValueError\u001b[0m: high <= 0"
     ]
    }
   ],
   "source": [
    "import numpy as np \n",
    "\n",
    "print (\"RV : \\n\", rv)   \n",
    "quantile = np.arange (0.01, 1, 0.1)  \n",
    "R = randint.rvs(a, b, size = 10)  \n",
    "print (\"Random Variates : \\n\", R)  \n",
    "x = np.linspace(randint.ppf(0.01, a, b), \n",
    "                randint.ppf(0.99, a, b), 10) \n",
    "R = randint.ppf(x, 1, 3) \n",
    "print (\"\\nProbability Distribution : \\n\", R)  "
   ]
  },
  {
   "cell_type": "markdown",
   "metadata": {},
   "source": []
  }
 ],
 "metadata": {
  "kernelspec": {
   "display_name": "Python 3.9.12 ('base')",
   "language": "python",
   "name": "python3"
  },
  "language_info": {
   "codemirror_mode": {
    "name": "ipython",
    "version": 3
   },
   "file_extension": ".py",
   "mimetype": "text/x-python",
   "name": "python",
   "nbconvert_exporter": "python",
   "pygments_lexer": "ipython3",
   "version": "3.9.12"
  },
  "orig_nbformat": 4,
  "vscode": {
   "interpreter": {
    "hash": "81e257058df10583e9d8d11ec74e8dbfa2c26d0d059139d21bb13510adff3663"
   }
  }
 },
 "nbformat": 4,
 "nbformat_minor": 2
}
