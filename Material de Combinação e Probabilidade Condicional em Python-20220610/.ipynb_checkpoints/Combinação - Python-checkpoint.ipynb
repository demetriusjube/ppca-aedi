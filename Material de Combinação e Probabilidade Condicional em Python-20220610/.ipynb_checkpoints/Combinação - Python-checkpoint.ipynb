{
 "cells": [
  {
   "cell_type": "markdown",
   "id": "direct-prayer",
   "metadata": {},
   "source": [
    "# Análise Combinatória"
   ]
  },
  {
   "cell_type": "markdown",
   "id": "adaptive-wildlife",
   "metadata": {},
   "source": [
    "## bibliotecas"
   ]
  },
  {
   "cell_type": "code",
   "execution_count": 1,
   "id": "aggregate-brighton",
   "metadata": {},
   "outputs": [],
   "source": [
    "import math as mt"
   ]
  },
  {
   "cell_type": "markdown",
   "id": "certified-judge",
   "metadata": {},
   "source": [
    "## Exemplo boliche"
   ]
  },
  {
   "cell_type": "code",
   "execution_count": 2,
   "id": "clinical-liberia",
   "metadata": {},
   "outputs": [
    {
     "name": "stdout",
     "output_type": "stream",
     "text": [
      "Espaço Amostral = 55\n"
     ]
    }
   ],
   "source": [
    "# elaborando os dados iniciais\n",
    "\n",
    "n = 11\n",
    "r = 2\n",
    "\n",
    "# encontrando o espaço amostral\n",
    "EA = mt.comb(n, r)\n",
    "print(\"Espaço Amostral =\", EA)\n"
   ]
  },
  {
   "cell_type": "code",
   "execution_count": 3,
   "id": "written-david",
   "metadata": {},
   "outputs": [
    {
     "name": "stdout",
     "output_type": "stream",
     "text": [
      "Brancas = 6\n",
      "Pretas = 5\n"
     ]
    }
   ],
   "source": [
    "# selecionar bolas\n",
    "\n",
    "B = mt.comb(6, 1)\n",
    "P = mt.comb (5, 1)\n",
    "\n",
    "print(\"Brancas =\", B)\n",
    "print(\"Pretas =\", P)"
   ]
  },
  {
   "cell_type": "code",
   "execution_count": 4,
   "id": "falling-product",
   "metadata": {},
   "outputs": [
    {
     "name": "stdout",
     "output_type": "stream",
     "text": [
      "Probabilidade = 54.55\n"
     ]
    }
   ],
   "source": [
    "# resultado\n",
    "\n",
    "Prob = (B * P)/ (EA)\n",
    "Prob = Prob *100\n",
    "Prob = round(Prob, 2)\n",
    "\n",
    "\n",
    "print(\"Probabilidade =\", Prob)"
   ]
  },
  {
   "cell_type": "markdown",
   "id": "relative-honor",
   "metadata": {},
   "source": [
    "## Exemplo comitê"
   ]
  },
  {
   "cell_type": "code",
   "execution_count": 5,
   "id": "cultural-router",
   "metadata": {},
   "outputs": [
    {
     "name": "stdout",
     "output_type": "stream",
     "text": [
      "Espaço Amostral = 3003\n"
     ]
    }
   ],
   "source": [
    "# elaborando os dados iniciais\n",
    "\n",
    "n = 15\n",
    "r = 5\n",
    "\n",
    "# encontrando o espaço amostral\n",
    "EA = mt.comb(n, r)\n",
    "print(\"Espaço Amostral =\", EA)"
   ]
  },
  {
   "cell_type": "code",
   "execution_count": 6,
   "id": "three-radiation",
   "metadata": {},
   "outputs": [
    {
     "name": "stdout",
     "output_type": "stream",
     "text": [
      "Homens = 20\n",
      "Mulheres = 36\n"
     ]
    }
   ],
   "source": [
    "# selecionar gênero\n",
    "\n",
    "H = mt.comb(6, 3)\n",
    "M = mt.comb (9, 2)\n",
    "\n",
    "print(\"Homens =\", H)\n",
    "print(\"Mulheres =\", M)"
   ]
  },
  {
   "cell_type": "code",
   "execution_count": 7,
   "id": "critical-albania",
   "metadata": {},
   "outputs": [
    {
     "name": "stdout",
     "output_type": "stream",
     "text": [
      "Probabilidade = 23.98\n"
     ]
    }
   ],
   "source": [
    "# resultado\n",
    "\n",
    "Prob = (H * M)/ EA\n",
    "Prob = Prob * 100\n",
    "Prob = round(Prob, 2)\n",
    "print(\"Probabilidade =\", Prob)"
   ]
  }
 ],
 "metadata": {
  "kernelspec": {
   "display_name": "Python 3",
   "language": "python",
   "name": "python3"
  },
  "language_info": {
   "codemirror_mode": {
    "name": "ipython",
    "version": 3
   },
   "file_extension": ".py",
   "mimetype": "text/x-python",
   "name": "python",
   "nbconvert_exporter": "python",
   "pygments_lexer": "ipython3",
   "version": "3.8.8"
  }
 },
 "nbformat": 4,
 "nbformat_minor": 5
}
