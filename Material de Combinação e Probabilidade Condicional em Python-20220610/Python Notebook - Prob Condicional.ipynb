{
 "cells": [
  {
   "cell_type": "markdown",
   "id": "polished-compression",
   "metadata": {},
   "source": [
    "# Python - Notebook\n"
   ]
  },
  {
   "cell_type": "markdown",
   "id": "given-things",
   "metadata": {},
   "source": [
    "### Exemplo de Prob. Condicional\n",
    "\n"
   ]
  },
  {
   "cell_type": "markdown",
   "id": "advised-arnold",
   "metadata": {},
   "source": [
    "Um aluno de Métodos Quantitativos Aplicados criou um modelo para prever recessões. O modelo prevê uma recessão, com probabilidade de 80%, quando a recessão está realmente chegando e com probabilidade de 10%, quando a recessão não chegará (falso positivo). A probabilidade incondicional de cair em uma recessão é de 20%. Se o modelo prevê uma recessão, qual é a probabilidade de que uma recessão realmente virá?\n",
    "\n",
    "Insumos do Problema:"
   ]
  },
  {
   "cell_type": "code",
   "execution_count": 1,
   "id": "least-trader",
   "metadata": {},
   "outputs": [
    {
     "name": "stdout",
     "output_type": "stream",
     "text": [
      "0.8\n"
     ]
    }
   ],
   "source": [
    "P_rec_verd = 0.8\n",
    "P_not_rec_verd = 0.2\n",
    "P_rec_not_verd = 0.1 \n",
    "P_not_rec_not_verd = 0.9\n",
    "P_verd = 0.2 \n",
    "P_not_verd = 0.8\n",
    "\n",
    "print(P_rec_verd)"
   ]
  },
  {
   "cell_type": "code",
   "execution_count": 2,
   "id": "middle-metadata",
   "metadata": {},
   "outputs": [
    {
     "name": "stdout",
     "output_type": "stream",
     "text": [
      "0.2\n"
     ]
    }
   ],
   "source": [
    "print(P_not_rec_verd)"
   ]
  },
  {
   "cell_type": "code",
   "execution_count": 3,
   "id": "encouraging-making",
   "metadata": {},
   "outputs": [
    {
     "name": "stdout",
     "output_type": "stream",
     "text": [
      "0.1\n"
     ]
    }
   ],
   "source": [
    "print(P_rec_not_verd)"
   ]
  },
  {
   "cell_type": "code",
   "execution_count": 4,
   "id": "surprised-order",
   "metadata": {},
   "outputs": [
    {
     "name": "stdout",
     "output_type": "stream",
     "text": [
      "0.9\n"
     ]
    }
   ],
   "source": [
    "print(P_not_rec_not_verd)"
   ]
  },
  {
   "cell_type": "code",
   "execution_count": 5,
   "id": "fifth-reset",
   "metadata": {},
   "outputs": [
    {
     "name": "stdout",
     "output_type": "stream",
     "text": [
      "0.2\n"
     ]
    }
   ],
   "source": [
    "print(P_verd)"
   ]
  },
  {
   "cell_type": "code",
   "execution_count": 6,
   "id": "residential-monkey",
   "metadata": {},
   "outputs": [
    {
     "name": "stdout",
     "output_type": "stream",
     "text": [
      "0.8\n"
     ]
    }
   ],
   "source": [
    "print(P_not_verd)"
   ]
  },
  {
   "cell_type": "code",
   "execution_count": 7,
   "id": "theoretical-pierre",
   "metadata": {},
   "outputs": [
    {
     "name": "stdout",
     "output_type": "stream",
     "text": [
      "Probabilidade do meu modelo acertar  =  67.0 %\n"
     ]
    }
   ],
   "source": [
    "P_verd_rec = (P_rec_verd * P_verd)/((P_rec_verd * P_verd)+ (P_rec_not_verd * P_not_verd))\n",
    "\n",
    "P_verd_rec = round(P_verd_rec, 2)\n",
    "P_verd_rec = P_verd_rec * 100\n",
    "\n",
    "print(\"Probabilidade do meu modelo acertar  = \" , P_verd_rec, \"%\")"
   ]
  }
 ],
 "metadata": {
  "kernelspec": {
   "display_name": "Python 3",
   "language": "python",
   "name": "python3"
  },
  "language_info": {
   "codemirror_mode": {
    "name": "ipython",
    "version": 3
   },
   "file_extension": ".py",
   "mimetype": "text/x-python",
   "name": "python",
   "nbconvert_exporter": "python",
   "pygments_lexer": "ipython3",
   "version": "3.8.8"
  }
 },
 "nbformat": 4,
 "nbformat_minor": 5
}
