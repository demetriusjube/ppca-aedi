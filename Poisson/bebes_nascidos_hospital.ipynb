{
 "cells": [
  {
   "cell_type": "markdown",
   "metadata": {},
   "source": [
    "Imagine que os dados do Hospital Born Hospital, hospital no qual você trabalha como analista de dados e\n",
    "risco, demonstram que a média de nascimentos de bebês nascidos neste hospital é de 4, 5 bebês por dias. A\n",
    "gerência gostaria que você simula-se uma distribuição e apresenta-se a eles a probabilidades e informações\n",
    "adicionais caso nasça 6 bebês amanhã?\n",
    "Com isso você irá apresentar um relatório com informações para a direção do hospital se preparar para esse\n",
    "evento:\n",
    "\n",
    "$$\n",
    "\\left\\{\\begin{matrix}\n",
    "\\\\ \\mathbb{P}X(X=x)=\\frac{e^{-\\lambda }\\lambda ^{x}}{x!} com =\\left \\{ 0,1,2,... \\right \\}\n",
    "\\\\ E(X)={\\lambda}\n",
    "\\\\ V(X)={\\lambda}\n",
    "\n",
    "\\end{matrix}\\right.\n",
    "$$"
   ]
  },
  {
   "cell_type": "code",
   "execution_count": 3,
   "metadata": {},
   "outputs": [
    {
     "name": "stdout",
     "output_type": "stream",
     "text": [
      "Probabilidade utilizando a distribuição de Poisson de um hospital que tem a taxa de ocorrência de 4.5 bebês por dia ter 6:  13.0 %\n"
     ]
    }
   ],
   "source": [
    "from scipy.stats import poisson\n",
    "pois_dist = poisson.pmf(k=6, mu=4.5)\n",
    "pois_dist = pois_dist.round(2) * 100\n",
    "print('Probabilidade utilizando a distribuição de Poisson de um hospital que tem a taxa de ocorrência de 4.5 bebês por dia ter 6: ', pois_dist, '%')\n"
   ]
  },
  {
   "cell_type": "markdown",
   "metadata": {},
   "source": [
    "A probabilidade Teórica de 6 bebês nascerem amanhã, considerando a média de λ = 4.5 é em torno de 13%.\n",
    "Agora no relatório você irá apresentar uma visualização dos dados simulados para o nascimento, com esses\n",
    "parâmetros, em um ano (n = 365 dias).\n"
   ]
  },
  {
   "cell_type": "code",
   "execution_count": 19,
   "metadata": {},
   "outputs": [
    {
     "data": {
      "text/plain": [
       "Text(0.5, 1.0, 'Simulação de nascimentos em um hospital por dia durante um ano Pois(lambda = 4,5)')"
      ]
     },
     "execution_count": 19,
     "metadata": {},
     "output_type": "execute_result"
    },
    {
     "data": {
      "image/png": "[encoded data removed]",
      "text/plain": [
       "<Figure size 432x288 with 1 Axes>"
      ]
     },
     "metadata": {
      "needs_background": "light"
     },
     "output_type": "display_data"
    }
   ],
   "source": [
    "import matplotlib.pyplot as plt\n",
    "import numpy as np\n",
    "from matplotlib.ticker import PercentFormatter\n",
    "\n",
    "# Garante que a mesma semente será usada, permitindo que o gráfico fique com os mesmos dados sempre\n",
    "np.random.seed(444)\n",
    "#np.set_printoptions(precision=3)\n",
    "\n",
    "#Gera a distribuição de Poisson, usando a taxa de ocorrência de 4.5 para o intervalor de 1 ano (365 dias)\n",
    "d = poisson.rvs(mu=4.5, size=365)\n",
    "# Informa a quantidade de barras que serão mostradas. Está com -0.5 para que centralize no valor\n",
    "xBins = np.arange(12) - 0.5\n",
    "# An \"interface\" to matplotlib.axes.Axes.hist() method\n",
    "\n",
    "n, bins, patches = plt.hist(x=d,edgecolor='black',bins=xBins, density=True, color='#0504aa',\n",
    "                            alpha=1)\n",
    "#Recupera a barra do valor 6 para pintar ela de vermelho\n",
    "patches[6].set_fc('r')\n",
    "#Formata em percentual\n",
    "plt.gca().yaxis.set_major_formatter(PercentFormatter(1))\n",
    "plt.grid(axis='y', alpha=0.75)\n",
    "plt.xlabel('Número de bebês nascidos por dia')\n",
    "plt.ylabel('Proporção')\n",
    "#Informa quais números serão mostrados no eixo X\n",
    "xTicks = [0,1,2,3,4,5,6,7,8,9,10]\n",
    "plt.xticks(xTicks)\n",
    "plt.title('Simulação de nascimentos em um hospital por dia durante um ano Pois(lambda = 4,5)')\n",
    "#plt.text(23, 45, r'$\\mu=4.5, b=365$')\n",
    "# maxfreq = n.max()\n",
    "# Set a clean upper y-axis limit.\n",
    "# plt.ylim()"
   ]
  }
 ],
 "metadata": {
  "kernelspec": {
   "display_name": "Python 3.9.12 ('base')",
   "language": "python",
   "name": "python3"
  },
  "language_info": {
   "codemirror_mode": {
    "name": "ipython",
    "version": 3
   },
   "file_extension": ".py",
   "mimetype": "text/x-python",
   "name": "python",
   "nbconvert_exporter": "python",
   "pygments_lexer": "ipython3",
   "version": "3.9.12"
  },
  "orig_nbformat": 4,
  "vscode": {
   "interpreter": {
    "hash": "81e257058df10583e9d8d11ec74e8dbfa2c26d0d059139d21bb13510adff3663"
   }
  }
 },
 "nbformat": 4,
 "nbformat_minor": 2
}
