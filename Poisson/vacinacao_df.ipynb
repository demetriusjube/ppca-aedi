{
 "cells": [
  {
   "cell_type": "markdown",
   "metadata": {},
   "source": [
    "# Problema\n",
    "Dados da vacinação do DF indicam que 6.620.974 doses de vacina foram aplicadas no período de 19 de janeiro de 2021 a 27 de junho de 2022.\n",
    "\n",
    "Considerando que houve vacinação em todos os dias, de forma initerrupta, calcule:\n",
    "1 - A média de vacinas aplicadas por dia\n",
    "2 - A probabilidade da quantidade de vacinas aplicadas em um dia ser mais que o dobro da média\n",
    "3 - A probabilidade de ninguém se vacinar"
   ]
  },
  {
   "cell_type": "markdown",
   "metadata": {},
   "source": [
    "# Solução\n",
    "\n",
    "Primeiro, vamos ter que calcular o intervalo de dias do período, para que seja possível calcular a média de vacinas aplicadas. Isso pode ser feito da forma abaixo:"
   ]
  },
  {
   "cell_type": "code",
   "execution_count": 31,
   "metadata": {},
   "outputs": [
    {
     "name": "stdout",
     "output_type": "stream",
     "text": [
      "Total de dias: 524\n"
     ]
    }
   ],
   "source": [
    "#Calculo dos dias\n",
    "from datetime import date\n",
    "d0 = date(2021, 1, 19)\n",
    "d1 = date(2022, 6, 27)\n",
    "delta = d1 - d0\n",
    "quantidadeDeDias = delta.days\n",
    "print('Total de dias:' , quantidadeDeDias)"
   ]
  },
  {
   "cell_type": "markdown",
   "metadata": {},
   "source": [
    "Dividindo a quantidade de vacinas que foram aplicadas por esse número, teremos a média diária de vacinas, que será a nossa Taxa de Ocorrência $(\\lambda)$:"
   ]
  },
  {
   "cell_type": "code",
   "execution_count": 32,
   "metadata": {},
   "outputs": [
    {
     "name": "stdout",
     "output_type": "stream",
     "text": [
      "Média de vacinas aplicadas por dia:  12635\n"
     ]
    }
   ],
   "source": [
    "# Cálculo da taxa de ocorrência\n",
    "\n",
    "quantidadeDeVacinas = 6620974\n",
    "mediaDeVacinacao = (quantidadeDeVacinas/quantidadeDeDias).__int__()\n",
    "print('Média de vacinas aplicadas por dia: ', mediaDeVacinacao)"
   ]
  },
  {
   "cell_type": "markdown",
   "metadata": {},
   "source": [
    "Com a taxa de ocorrência, será possível fazer as projeções solicitadas.\n",
    "\n",
    "A probabilidade de termos uma procura que seja o dobro da média é a seguinte:\n"
   ]
  },
  {
   "cell_type": "code",
   "execution_count": 33,
   "metadata": {},
   "outputs": [
    {
     "name": "stdout",
     "output_type": "stream",
     "text": [
      "Dobro da média diária:  25270\n",
      "Probabilidade do dobro da média:  0.0\n"
     ]
    }
   ],
   "source": [
    "import math as m;\n",
    "from scipy.stats import poisson\n",
    "\n",
    "def calcularPoisson(taxaDeOcorrencia, valorEsperado):\n",
    "    return (m.exp(-1*taxaDeOcorrencia)*m.pow(taxaDeOcorrencia,valorEsperado))/m.factorial(valorEsperado);\n",
    "\n",
    "vacinasAplicadas=int(2*mediaDeVacinacao)\n",
    "print('Dobro da média diária: ', vacinasAplicadas)\n",
    "probabilidadeDobro =  1 - poisson.cdf(k=vacinasAplicadas, mu=mediaDeVacinacao)\n",
    "print('Probabilidade do dobro da média: ', probabilidadeDobro)\n"
   ]
  }
 ],
 "metadata": {
  "kernelspec": {
   "display_name": "Python 3.9.12 ('base')",
   "language": "python",
   "name": "python3"
  },
  "language_info": {
   "codemirror_mode": {
    "name": "ipython",
    "version": 3
   },
   "file_extension": ".py",
   "mimetype": "text/x-python",
   "name": "python",
   "nbconvert_exporter": "python",
   "pygments_lexer": "ipython3",
   "version": "3.9.12"
  },
  "orig_nbformat": 4,
  "vscode": {
   "interpreter": {
    "hash": "81e257058df10583e9d8d11ec74e8dbfa2c26d0d059139d21bb13510adff3663"
   }
  }
 },
 "nbformat": 4,
 "nbformat_minor": 2
}
