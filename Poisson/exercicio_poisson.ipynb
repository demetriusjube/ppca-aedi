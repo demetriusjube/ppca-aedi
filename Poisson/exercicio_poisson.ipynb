{
 "cells": [
  {
   "cell_type": "markdown",
   "metadata": {},
   "source": [
    "Considere uma central de atendimento que recebe 5\n",
    "telefonemas a cada 3 minutos. Qual é a probabilidade dessa\n",
    "central receber pelo menos duas chamadas? Qual a\n",
    "probabilidade de não receber chamada alguma?"
   ]
  },
  {
   "cell_type": "markdown",
   "metadata": {},
   "source": [
    "Resolução:\n",
    "\n",
    "A distribuição de Poisson é aplicável quando o número de possíveis ocorrências discretas é muito maior do que o número médio de ocorrências em um determinado intervalo de tempo ou espaço. O número de possíveis ocorrências, muitas vezes não se sabe exatamente. Os resultados devem ocorrer de forma aleatória, ou seja, totalmente por acaso e da probabilidade de ocorrência não deve ser afetado por ser ou não os resultados ocorrido anteriormente, de modo que as ocorrências são independentes. Em muitos casos, embora possamos contar as ocorrências, como a de uma tempestade, não podemos contar as não ocorrências correspondentes. (Nós não podemos contar “não-tempestades”!).\n",
    "\n",
    "Considerando então que A Variável Aleatória X pode ser descrita da seguinte maneira:\n",
    "\n",
    "$$\n",
    "X\\sim \\mathbb{P}0(5)= x = \\left \\{ 0,1,2,... \\right \\}\n",
    "$$\n",
    "\n",
    "Que pode ser lido assim: Variável aleatória X é a Probabilidade de acontecer 5 chamadas no espaço amostral de ter 0 chamadas, 1 chamada, 2 chamadas...\n",
    "\n",
    "Se queremos saber a probabilidade de receber pelo menos 2 chamadas, podemos descrever nossa probabilidade assim:\n",
    "\n",
    "$$\n",
    "\\mathbb{P}(x\\geq 2)=\\mathbb{P}(x=2)+ \\mathbb{P}(x=3)...\n",
    "$$\n",
    "\n",
    "Que corresponde à soma das probabilidades de x = 2, x=3, x=4, até o infinito.\n",
    "\n",
    "Isso também pode ser descrito como: a probabilidade de não ocorrer 0 chamadas e 1 chamada. Essa probabilidade corresponde à probabilidade total, que é igual a 1, menos a probabilidade de ter 0 chamadas e ter 1 chamada.\n",
    "\n",
    "$$\n",
    "\\mathbb{P}(x\\geq 2)=1-\\mathbb{P}(x=1)-\\mathbb{P}(x=0)\n",
    "$$\n",
    "$$\n",
    "\\mathbb{P}(x\\geq 2)=1-\\frac{e^{-5}5^{1}}{1!}-\\frac{e^{-5}5^{0}}{0!}\n",
    "$$\n",
    "\n",
    "Que dá o seguinte valor:\n"
   ]
  },
  {
   "cell_type": "code",
   "execution_count": 4,
   "metadata": {},
   "outputs": [
    {
     "name": "stdout",
     "output_type": "stream",
     "text": [
      "Probabilidade de ocorrer 1 chamada no intervalo: 0.03368973499542734\n",
      "Probabilidade de ocorrer 0 chamadas no intervalo: 0.006737946999085467\n",
      "Probabilidade de ocorrer 2 ou mais chamadas = Probabilidade total menos a probabilidade de ocorrer 0 ou 1 chamada:  0.9595723180054871\n"
     ]
    }
   ],
   "source": [
    "import math as m;\n",
    "\n",
    "def calcularPoisson(taxaDeOcorrencia, valorEsperado):\n",
    "    return (m.exp(-1*taxaDeOcorrencia)*m.pow(taxaDeOcorrencia,valorEsperado))/m.factorial(valorEsperado);\n",
    "\n",
    "ocorrencias = 5;\n",
    "probabilidade1Chamada = calcularPoisson(ocorrencias, 1);\n",
    "probabilidade0Chamadas = calcularPoisson(ocorrencias, 0);\n",
    "print('Probabilidade de ocorrer 1 chamada no intervalo:' , probabilidade1Chamada);\n",
    "print('Probabilidade de ocorrer 0 chamadas no intervalo:' , probabilidade0Chamadas);\n",
    "print('Probabilidade de ocorrer 2 ou mais chamadas = Probabilidade total menos a probabilidade de ocorrer 0 ou 1 chamada: ',1-probabilidade1Chamada-probabilidade0Chamadas);"
   ]
  }
 ],
 "metadata": {
  "kernelspec": {
   "display_name": "Python 3.10.1 64-bit",
   "language": "python",
   "name": "python3"
  },
  "language_info": {
   "codemirror_mode": {
    "name": "ipython",
    "version": 3
   },
   "file_extension": ".py",
   "mimetype": "text/x-python",
   "name": "python",
   "nbconvert_exporter": "python",
   "pygments_lexer": "ipython3",
   "version": "3.10.1"
  },
  "orig_nbformat": 4,
  "vscode": {
   "interpreter": {
    "hash": "9074c6ca263febb3056fdec0fe49f2127cb8f6bee4b51a6739ac481fb042a4cc"
   }
  }
 },
 "nbformat": 4,
 "nbformat_minor": 2
}
