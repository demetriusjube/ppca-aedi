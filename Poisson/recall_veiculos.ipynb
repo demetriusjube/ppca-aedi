{
 "cells": [
  {
   "cell_type": "markdown",
   "metadata": {},
   "source": [
    "# Problema\n",
    "Foram produzidos aproximadamente 2 milhões de carros no Brasil em 2021. Desses, 770.966 foram chamados para recall no mesmo ano.\n",
    "\n",
    "Considerando que o recall de um carro é um evento aleatório que atende às condições da Distribuição de Poisson, calcule:\n",
    "1 - A taxa de ocorrência de recalls que ocorreram em 2021\n",
    "2 - A probabilidade de nenhum carro ser chamado para recall em um ano\n",
    "3 - A probabilidade de mais de 900.000 carros serem chamados para recall\n"
   ]
  },
  {
   "cell_type": "markdown",
   "metadata": {},
   "source": [
    "# Solução\n",
    "\n",
    "A obtenção da taxa de recall por ano é obtida pela divisão do número de recalls realizados pelo quantidade de carros produzidos. Dessa forma, tem-se que:"
   ]
  },
  {
   "cell_type": "code",
   "execution_count": 2,
   "metadata": {},
   "outputs": [
    {
     "name": "stdout",
     "output_type": "stream",
     "text": [
      "Taxa de ocorrência de recall: 0.385483\n"
     ]
    }
   ],
   "source": [
    "#Cálculo da taxa de ocorrência de recall\n",
    "carrosProduzidos = 2000000\n",
    "numeroDeRecalls = 770966\n",
    "taxaDeOcorrencia = numeroDeRecalls/carrosProduzidos\n",
    "print('Taxa de ocorrência de recall:' , taxaDeOcorrencia)"
   ]
  },
  {
   "cell_type": "markdown",
   "metadata": {},
   "source": [
    "Essa será a Taxa de Ocorrência $(\\lambda)$ que usaremos para verificar a probabilidade, utilizando a Distribuição de Poisson. Para o caso de não ter nenhum carro sendo chamado para recall em um ano, podemos utilizar a Função Massa de Probabilidade de Poisson, descrita abaixo:\n",
    "$$\n",
    "\\mathbb{P}X(X=x)=\\frac{e^{-\\lambda }\\lambda ^{x}}{x!} com =\\left \\{ 0,1,2,... \\right \\}\n",
    "$$\n",
    "\n",
    "Onde $\\lambda=0.38$ e $x=0$\n",
    "\n",
    "A biblioteca SciPy permite fazer os cálculos através da sua função poisson"
   ]
  },
  {
   "cell_type": "code",
   "execution_count": 7,
   "metadata": {},
   "outputs": [
    {
     "name": "stdout",
     "output_type": "stream",
     "text": [
      "Probabilidade de nenhum recall:  68.39 %\n",
      "Probabilidade do nenhum recall usando SciPy:  0.6838614092123558\n"
     ]
    }
   ],
   "source": [
    "import math as m;\n",
    "from scipy.stats import poisson\n",
    "\n",
    "\n",
    "numeroDeRecalls = 0\n",
    "probabilidadeDe0Recall =  poisson.pmf(k=numeroDeRecalls, mu=taxaDeOcorrencia)\n",
    "print('Probabilidade de nenhum recall: ', probabilidadeDe0Recall, '%')\n"
   ]
  }
 ],
 "metadata": {
  "kernelspec": {
   "display_name": "Python 3.9.12 ('base')",
   "language": "python",
   "name": "python3"
  },
  "language_info": {
   "codemirror_mode": {
    "name": "ipython",
    "version": 3
   },
   "file_extension": ".py",
   "mimetype": "text/x-python",
   "name": "python",
   "nbconvert_exporter": "python",
   "pygments_lexer": "ipython3",
   "version": "3.9.12"
  },
  "orig_nbformat": 4,
  "vscode": {
   "interpreter": {
    "hash": "81e257058df10583e9d8d11ec74e8dbfa2c26d0d059139d21bb13510adff3663"
   }
  }
 },
 "nbformat": 4,
 "nbformat_minor": 2
}
