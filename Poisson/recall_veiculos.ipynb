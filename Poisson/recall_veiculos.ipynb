{
 "cells": [
  {
   "cell_type": "markdown",
   "metadata": {},
   "source": [
    "# Problema\n",
    "Em uma oficina, há uma média de ocorrência de 4 carros por semana serem provenientes de recall das montadoras.\n",
    "\n",
    "Considerando que o recall de um carro é um evento aleatório que atende às condições da Distribuição de Poisson, calcule:\n",
    "1. A probabilidade de nenhum carro de recall ser atendido em uma semana\n",
    "2. A probabilidade de no máximo 2 carros atendidos serem de recall\n",
    "3. A probabilidade de mais de 7 carros serem atendidos em função de recall\n"
   ]
  },
  {
   "cell_type": "markdown",
   "metadata": {},
   "source": [
    "# Resolução\n",
    "Pelo enunciado, podemos assumir que 4 será a Taxa de Ocorrência $(\\lambda)$ que usaremos para verificar a probabilidade, utilizando a Distribuição de Poisson. Para o caso de não ter nenhum carro sendo chamado para recall em um ano, podemos utilizar a Função Massa de Probabilidade de Poisson, descrita abaixo:\n",
    "$$\n",
    "\\mathbb{P}X(X=x)=\\frac{e^{-\\lambda }\\lambda ^{x}}{x!} com =\\left \\{ 0,1,2,... \\right \\}\n",
    "$$\n",
    "\n",
    "Onde $\\lambda=4$ e $x=0$\n",
    "\n",
    "A biblioteca SciPy permite fazer os cálculos através do seu objeto `poisson`, e utilizaremos essa funcionalidade para o cálculo:"
   ]
  },
  {
   "cell_type": "code",
   "execution_count": 17,
   "metadata": {},
   "outputs": [
    {
     "name": "stdout",
     "output_type": "stream",
     "text": [
      "Probabilidade de nenhum recall:  1.83 %\n"
     ]
    }
   ],
   "source": [
    "import math as m;\n",
    "from scipy.stats import poisson\n",
    "\n",
    "taxaDeOcorrencia=4\n",
    "numeroDeRecalls = 0\n",
    "probabilidadeDe0Recall =  (poisson.pmf(k=numeroDeRecalls, mu=taxaDeOcorrencia)*100).round(2)\n",
    "print('Probabilidade de nenhum recall: ', probabilidadeDe0Recall, '%')\n"
   ]
  },
  {
   "cell_type": "markdown",
   "metadata": {},
   "source": [
    "Para a probabilidade de no máximo 2 carros serem atendidos, podemos utilizar a Função de Distribuição Acumulada (*Cumulative distribution function* em inglês), que acumula as probabilidades até um determinado ponto. Ela pode ser acessada através da função `cdf`:"
   ]
  },
  {
   "cell_type": "code",
   "execution_count": 29,
   "metadata": {},
   "outputs": [
    {
     "name": "stdout",
     "output_type": "stream",
     "text": [
      "Probabilidade de 2 ou menos carros serem de recall:  23.81 %\n"
     ]
    }
   ],
   "source": [
    "numeroMaximoCarros2 = 2\n",
    "probabilidadeMaximo2 = (poisson.cdf(k=numeroMaximoCarros2, mu=taxaDeOcorrencia)*100).round(2)\n",
    "print('Probabilidade de 2 ou menos carros serem de recall: ', probabilidadeMaximo2,'%')"
   ]
  },
  {
   "cell_type": "markdown",
   "metadata": {},
   "source": [
    "Para uma probabilidade maior que um determinado valor, podemos utilizar a propriedade que todas as probabilidades somadas dão, como resultado, 1. Sendo assim, se conseguimos calcular a probabilidade até um determinado ponto usando a Função Distribuição Acumulada, a probabilidade do restante ocorrer será $$1-FDA$$:"
   ]
  },
  {
   "cell_type": "code",
   "execution_count": 28,
   "metadata": {},
   "outputs": [
    {
     "name": "stdout",
     "output_type": "stream",
     "text": [
      "Probabilidade de mais de 7 carros serem de recall:  5.11 %\n"
     ]
    }
   ],
   "source": [
    "numero7Carros = 7\n",
    "probabilidadeMaisQue7 = 1 -poisson.cdf(k=numero7Carros, mu=taxaDeOcorrencia)\n",
    "probabilidadeMaisQue7 = (probabilidadeMaisQue7 * 100).round(2)\n",
    "print('Probabilidade de mais de 7 carros serem de recall: ', probabilidadeMaisQue7, '%')"
   ]
  },
  {
   "cell_type": "markdown",
   "metadata": {},
   "source": [
    "\n",
    "É possível fazer um histograma levando em consideração o período de 1 ano (52 semanas), de forma que seja possível ver a distribuição desses atendimentos de forma gráfica:"
   ]
  },
  {
   "cell_type": "code",
   "execution_count": 38,
   "metadata": {},
   "outputs": [
    {
     "data": {
      "text/plain": [
       "Text(0.5, 1.0, 'Simulação de carros de recall atendidos(lambda = 4)')"
      ]
     },
     "execution_count": 38,
     "metadata": {},
     "output_type": "execute_result"
    },
    {
     "data": {
      "image/png": "[encoded data removed]",
      "text/plain": [
       "<Figure size 432x288 with 1 Axes>"
      ]
     },
     "metadata": {
      "needs_background": "light"
     },
     "output_type": "display_data"
    }
   ],
   "source": [
    "import matplotlib.pyplot as plt\n",
    "import numpy as np\n",
    "from matplotlib.ticker import PercentFormatter\n",
    "\n",
    "# Garante que a mesma semente será usada, permitindo que o gráfico fique com os mesmos dados sempre\n",
    "np.random.seed(4)\n",
    "#np.set_printoptions(precision=3)\n",
    "\n",
    "#Gera a distribuição de Poisson, usando a taxa de ocorrência de 4 para o intervalor de 1 ano (52 semanas)\n",
    "d = poisson.rvs(mu=taxaDeOcorrencia, size=52)\n",
    "# Informa a quantidade de barras que serão mostradas. Está com -0.5 para que centralize no valor\n",
    "xBins = np.arange(10) - 0.5\n",
    "# An \"interface\" to matplotlib.axes.Axes.hist() method\n",
    "\n",
    "n, bins, patches = plt.hist(x=d,edgecolor='black',bins=xBins, density=True, color='#0504aa',\n",
    "                            alpha=1)\n",
    "#Recupera a barra do valor 6 para pintar ela de vermelho\n",
    "#patches[7].set_fc('r')\n",
    "#Formata em percentual\n",
    "plt.gca().yaxis.set_major_formatter(PercentFormatter(1))\n",
    "plt.grid(axis='y', alpha=0.75)\n",
    "plt.xlabel('Número de carros de recall por semana')\n",
    "plt.ylabel('Proporção')\n",
    "#Informa quais números serão mostrados no eixo X\n",
    "xTicks = [0,1,2,3,4,5,6,7,8,9,10]\n",
    "plt.xticks(xTicks)\n",
    "plt.title('Simulação de carros de recall atendidos(lambda = 4)')\n",
    "#plt.text(23, 45, r'$\\mu=4.5, b=365$')\n",
    "# maxfreq = n.max()\n",
    "# Set a clean upper y-axis limit.\n",
    "# plt.ylim()"
   ]
  }
 ],
 "metadata": {
  "kernelspec": {
   "display_name": "Python 3.9.12 ('base')",
   "language": "python",
   "name": "python3"
  },
  "language_info": {
   "codemirror_mode": {
    "name": "ipython",
    "version": 3
   },
   "file_extension": ".py",
   "mimetype": "text/x-python",
   "name": "python",
   "nbconvert_exporter": "python",
   "pygments_lexer": "ipython3",
   "version": "3.9.12"
  },
  "orig_nbformat": 4,
  "vscode": {
   "interpreter": {
    "hash": "81e257058df10583e9d8d11ec74e8dbfa2c26d0d059139d21bb13510adff3663"
   }
  }
 },
 "nbformat": 4,
 "nbformat_minor": 2
}
