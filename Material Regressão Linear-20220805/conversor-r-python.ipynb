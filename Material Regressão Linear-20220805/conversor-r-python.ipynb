{
 "cells": [
  {
   "cell_type": "code",
   "execution_count": 8,
   "metadata": {},
   "outputs": [
    {
     "name": "stdout",
     "output_type": "stream",
     "text": [
      "ggplot(CASchools) +\n",
      "geom_density(aes(x=score), colour=\"red\") +\n",
      "geom_histogram(aes(x=score, y=__density__)) +\n",
      "theme_classic()\n",
      "\n"
     ]
    }
   ],
   "source": [
    "rscript = \"\"\"\n",
    "\n",
    "ggplot(CASchools) + \n",
    "  geom_density(aes(x=score), colour = \"red\") +\n",
    "  geom_histogram(aes(x=score, y=..density..)) +\n",
    "  theme_classic()\n",
    "\"\"\"\n",
    "\n",
    "from pyensae.languages import rconverter\n",
    "print(rconverter.r2python(rscript, pep8=True))"
   ]
  },
  {
   "cell_type": "markdown",
   "metadata": {},
   "source": []
  },
  {
   "cell_type": "code",
   "execution_count": 2,
   "metadata": {},
   "outputs": [
    {
     "name": "stdout",
     "output_type": "stream",
     "text": [
      "returns = prices >\n",
      "gather(asset, prices, - date) >\n",
      "group_by(asset) >\n",
      "tq_transmute(mutate_fun=periodReturn, period='daily', type='log') >\n",
      "spread(asset, daily_returns) >\n",
      "select(date, acoes)\n",
      "head(returns)\n",
      "\n"
     ]
    }
   ],
   "source": []
  }
 ],
 "metadata": {
  "kernelspec": {
   "display_name": "Python 3.9.12 ('base')",
   "language": "python",
   "name": "python3"
  },
  "language_info": {
   "codemirror_mode": {
    "name": "ipython",
    "version": 3
   },
   "file_extension": ".py",
   "mimetype": "text/x-python",
   "name": "python",
   "nbconvert_exporter": "python",
   "pygments_lexer": "ipython3",
   "version": "3.9.12"
  },
  "orig_nbformat": 4,
  "vscode": {
   "interpreter": {
    "hash": "81e257058df10583e9d8d11ec74e8dbfa2c26d0d059139d21bb13510adff3663"
   }
  }
 },
 "nbformat": 4,
 "nbformat_minor": 2
}
