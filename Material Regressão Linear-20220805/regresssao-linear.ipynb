{
 "cells": [
  {
   "cell_type": "markdown",
   "metadata": {},
   "source": [
    "O teste verifica se o modelo pode ser submetido à regressão linear. Para isso, ele faz um teste de normalidade para entender se o modelo pode ser descrito como normal.\n",
    "\n",
    "Ele também testa se os erros são independentes.\n",
    "\n",
    "Depois, ele testa a Heterocedasticidade. Se não estiver, usa a correção de White"
   ]
  },
  {
   "cell_type": "code",
   "execution_count": null,
   "metadata": {},
   "outputs": [],
   "source": []
  }
 ],
 "metadata": {
  "kernelspec": {
   "display_name": "Python 3.9.12 ('base')",
   "language": "python",
   "name": "python3"
  },
  "language_info": {
   "name": "python",
   "version": "3.9.12"
  },
  "orig_nbformat": 4,
  "vscode": {
   "interpreter": {
    "hash": "81e257058df10583e9d8d11ec74e8dbfa2c26d0d059139d21bb13510adff3663"
   }
  }
 },
 "nbformat": 4,
 "nbformat_minor": 2
}
