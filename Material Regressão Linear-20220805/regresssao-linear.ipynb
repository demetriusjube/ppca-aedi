{
 "cells": [
  {
   "cell_type": "markdown",
   "metadata": {},
   "source": [
    "O teste verifica se o modelo pode ser submetido à regressão linear. Para isso, ele faz um teste de normalidade para entender se o modelo pode ser descrito como normal.\n",
    "\n",
    "Ele também testa se os erros são independentes.\n",
    "\n",
    "Depois, ele testa a Heterocedasticidade. Se não estiver, usa a correção de White"
   ]
  },
  {
   "cell_type": "code",
   "execution_count": null,
   "metadata": {},
   "outputs": [],
   "source": []
  }
 ],
 "metadata": {
  "language_info": {
   "name": "python"
  },
  "orig_nbformat": 4
 },
 "nbformat": 4,
 "nbformat_minor": 2
}
